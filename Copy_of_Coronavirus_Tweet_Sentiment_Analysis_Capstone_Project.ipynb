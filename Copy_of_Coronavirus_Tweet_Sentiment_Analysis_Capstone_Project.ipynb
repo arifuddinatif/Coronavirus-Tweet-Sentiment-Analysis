{
  "nbformat": 4,
  "nbformat_minor": 0,
  "metadata": {
    "kernelspec": {
      "display_name": "Python 3",
      "language": "python",
      "name": "python3"
    },
    "language_info": {
      "codemirror_mode": {
        "name": "ipython",
        "version": 3
      },
      "file_extension": ".py",
      "mimetype": "text/x-python",
      "name": "python",
      "nbconvert_exporter": "python",
      "pygments_lexer": "ipython3",
      "version": "3.6.6"
    },
    "colab": {
      "name": "Copy of Coronavirus Tweet Sentiment Analysis - Capstone Project.ipynb",
      "provenance": [],
      "include_colab_link": true
    }
  },
  "cells": [
    {
      "cell_type": "markdown",
      "metadata": {
        "id": "view-in-github",
        "colab_type": "text"
      },
      "source": [
        "<a href=\"https://colab.research.google.com/github/arifuddinatif/Coronavirus-Tweet-Sentiment-Analysis/blob/main/Copy_of_Coronavirus_Tweet_Sentiment_Analysis_Capstone_Project.ipynb\" target=\"_parent\"><img src=\"https://colab.research.google.com/assets/colab-badge.svg\" alt=\"Open In Colab\"/></a>"
      ]
    },
    {
      "cell_type": "markdown",
      "metadata": {
        "id": "tOGC-qoyhJeX"
      },
      "source": [
        "# <b><u> Project Title : Sentiment Analysis : Predicting sentiment of COVID-19 tweets</u></b>"
      ]
    },
    {
      "cell_type": "markdown",
      "metadata": {
        "id": "Y06xIdG26kRF"
      },
      "source": [
        "## <b> Problem Description </b>\n",
        "\n",
        "### This challenge asks you to build a classification model to predict the sentiment of COVID-19 tweets.The tweets have been pulled from Twitter and manual tagging has been done then.\n",
        "\n",
        "### The names and usernames have been given codes to avoid any privacy concerns.\n",
        "\n",
        "### You are given the following information:\n",
        "1. Location\n",
        "2. Tweet At\n",
        "3. Original Tweet\n",
        "4. Label"
      ]
    },
    {
      "cell_type": "code",
      "metadata": {
        "id": "EWNxgGkijH2W"
      },
      "source": [
        "# loading libraries\n",
        "\n",
        "import pandas as pd\n",
        "import numpy as np\n",
        "import matplotlib.pyplot as plt\n",
        "import seaborn as sns\n",
        "\n",
        "from nltk.corpus import stopwords\n",
        "from nltk.tokenize import word_tokenize\n",
        "from sklearn.feature_extraction.text import TfidfVectorizer\n",
        "from sklearn.model_selection import train_test_split\n",
        "from nltk.stem.snowball import SnowballStemmer\n",
        "from sklearn.feature_extraction.text import CountVectorizer\n",
        "\n",
        "from sklearn.metrics import accuracy_score,precision_score,recall_score,classification_report,f1_score\n",
        "from sklearn.linear_model import LogisticRegression\n",
        "from sklearn.svm import SVC\n",
        "\n",
        "import warnings\n",
        "warnings.filterwarnings('ignore')"
      ],
      "execution_count": null,
      "outputs": []
    },
    {
      "cell_type": "code",
      "metadata": {
        "id": "dByMsuzT8Tnw",
        "colab": {
          "base_uri": "https://localhost:8080/"
        },
        "outputId": "e828f7bd-2650-48e0-e983-6a81454dfc68"
      },
      "source": [
        "from google.colab import drive\n",
        "drive.mount('/content/drive')"
      ],
      "execution_count": null,
      "outputs": [
        {
          "output_type": "stream",
          "text": [
            "Mounted at /content/drive\n"
          ],
          "name": "stdout"
        }
      ]
    },
    {
      "cell_type": "code",
      "metadata": {
        "id": "iLc91N8OhZ8i"
      },
      "source": [
        "# accessing the data\n",
        "\n",
        "df = pd.read_csv('/content/drive/MyDrive/Colab Notebooks/projects/Supervised ML - Classification/dat files/Coronavirus Tweets.csv',encoding='latin-1')"
      ],
      "execution_count": null,
      "outputs": []
    },
    {
      "cell_type": "markdown",
      "metadata": {
        "id": "Fq3HGHtcpzUo"
      },
      "source": [
        "#Performing EDA on the data"
      ]
    },
    {
      "cell_type": "code",
      "metadata": {
        "id": "bSQRErglhZ3i",
        "colab": {
          "base_uri": "https://localhost:8080/",
          "height": 203
        },
        "outputId": "5a967ecd-0f53-44d9-d706-a36fb9a10386"
      },
      "source": [
        "df.head()"
      ],
      "execution_count": null,
      "outputs": [
        {
          "output_type": "execute_result",
          "data": {
            "text/html": [
              "<div>\n",
              "<style scoped>\n",
              "    .dataframe tbody tr th:only-of-type {\n",
              "        vertical-align: middle;\n",
              "    }\n",
              "\n",
              "    .dataframe tbody tr th {\n",
              "        vertical-align: top;\n",
              "    }\n",
              "\n",
              "    .dataframe thead th {\n",
              "        text-align: right;\n",
              "    }\n",
              "</style>\n",
              "<table border=\"1\" class=\"dataframe\">\n",
              "  <thead>\n",
              "    <tr style=\"text-align: right;\">\n",
              "      <th></th>\n",
              "      <th>UserName</th>\n",
              "      <th>ScreenName</th>\n",
              "      <th>Location</th>\n",
              "      <th>TweetAt</th>\n",
              "      <th>OriginalTweet</th>\n",
              "      <th>Sentiment</th>\n",
              "      <th>TweetMonth</th>\n",
              "    </tr>\n",
              "  </thead>\n",
              "  <tbody>\n",
              "    <tr>\n",
              "      <th>0</th>\n",
              "      <td>3799</td>\n",
              "      <td>48751</td>\n",
              "      <td>London</td>\n",
              "      <td>2020-03-16</td>\n",
              "      <td>menyrbi philgahan chrisitv</td>\n",
              "      <td>0</td>\n",
              "      <td>3</td>\n",
              "    </tr>\n",
              "    <tr>\n",
              "      <th>1</th>\n",
              "      <td>3800</td>\n",
              "      <td>48752</td>\n",
              "      <td>UK</td>\n",
              "      <td>2020-03-16</td>\n",
              "      <td>advic talk neighbour famili exchang phone numb...</td>\n",
              "      <td>1</td>\n",
              "      <td>3</td>\n",
              "    </tr>\n",
              "    <tr>\n",
              "      <th>2</th>\n",
              "      <td>3801</td>\n",
              "      <td>48753</td>\n",
              "      <td>Vagabonds</td>\n",
              "      <td>2020-03-16</td>\n",
              "      <td>coronavirus australia woolworth give elder dis...</td>\n",
              "      <td>1</td>\n",
              "      <td>3</td>\n",
              "    </tr>\n",
              "    <tr>\n",
              "      <th>3</th>\n",
              "      <td>3802</td>\n",
              "      <td>48754</td>\n",
              "      <td>NaN</td>\n",
              "      <td>2020-03-16</td>\n",
              "      <td>food stock one empti pleas dont panic enough f...</td>\n",
              "      <td>1</td>\n",
              "      <td>3</td>\n",
              "    </tr>\n",
              "    <tr>\n",
              "      <th>4</th>\n",
              "      <td>3803</td>\n",
              "      <td>48755</td>\n",
              "      <td>NaN</td>\n",
              "      <td>2020-03-16</td>\n",
              "      <td>readi go supermarket covid19 outbreak im paran...</td>\n",
              "      <td>-1</td>\n",
              "      <td>3</td>\n",
              "    </tr>\n",
              "  </tbody>\n",
              "</table>\n",
              "</div>"
            ],
            "text/plain": [
              "   UserName  ScreenName  ... Sentiment TweetMonth\n",
              "0      3799       48751  ...         0          3\n",
              "1      3800       48752  ...         1          3\n",
              "2      3801       48753  ...         1          3\n",
              "3      3802       48754  ...         1          3\n",
              "4      3803       48755  ...        -1          3\n",
              "\n",
              "[5 rows x 7 columns]"
            ]
          },
          "metadata": {
            "tags": []
          },
          "execution_count": 65
        }
      ]
    },
    {
      "cell_type": "code",
      "metadata": {
        "id": "d9FkSGNOm_Ep",
        "colab": {
          "base_uri": "https://localhost:8080/",
          "height": 203
        },
        "outputId": "175fbf06-2706-498c-817c-9bcb5822112c"
      },
      "source": [
        "df.tail()"
      ],
      "execution_count": null,
      "outputs": [
        {
          "output_type": "execute_result",
          "data": {
            "text/html": [
              "<div>\n",
              "<style scoped>\n",
              "    .dataframe tbody tr th:only-of-type {\n",
              "        vertical-align: middle;\n",
              "    }\n",
              "\n",
              "    .dataframe tbody tr th {\n",
              "        vertical-align: top;\n",
              "    }\n",
              "\n",
              "    .dataframe thead th {\n",
              "        text-align: right;\n",
              "    }\n",
              "</style>\n",
              "<table border=\"1\" class=\"dataframe\">\n",
              "  <thead>\n",
              "    <tr style=\"text-align: right;\">\n",
              "      <th></th>\n",
              "      <th>UserName</th>\n",
              "      <th>ScreenName</th>\n",
              "      <th>Location</th>\n",
              "      <th>TweetAt</th>\n",
              "      <th>OriginalTweet</th>\n",
              "      <th>Sentiment</th>\n",
              "      <th>TweetMonth</th>\n",
              "    </tr>\n",
              "  </thead>\n",
              "  <tbody>\n",
              "    <tr>\n",
              "      <th>41152</th>\n",
              "      <td>44951</td>\n",
              "      <td>89903</td>\n",
              "      <td>Wellington City, New Zealand</td>\n",
              "      <td>2020-04-14</td>\n",
              "      <td>airlin pilot offer stock supermarket shelv nz ...</td>\n",
              "      <td>0</td>\n",
              "      <td>4</td>\n",
              "    </tr>\n",
              "    <tr>\n",
              "      <th>41153</th>\n",
              "      <td>44952</td>\n",
              "      <td>89904</td>\n",
              "      <td>NaN</td>\n",
              "      <td>2020-04-14</td>\n",
              "      <td>respons complaint provid cite covid19 relat de...</td>\n",
              "      <td>-1</td>\n",
              "      <td>4</td>\n",
              "    </tr>\n",
              "    <tr>\n",
              "      <th>41154</th>\n",
              "      <td>44953</td>\n",
              "      <td>89905</td>\n",
              "      <td>NaN</td>\n",
              "      <td>2020-04-14</td>\n",
              "      <td>know itâ get tough kameronwild ration toilet ...</td>\n",
              "      <td>1</td>\n",
              "      <td>4</td>\n",
              "    </tr>\n",
              "    <tr>\n",
              "      <th>41155</th>\n",
              "      <td>44954</td>\n",
              "      <td>89906</td>\n",
              "      <td>NaN</td>\n",
              "      <td>2020-04-14</td>\n",
              "      <td>wrong smell hand sanit start turn coronavirus ...</td>\n",
              "      <td>0</td>\n",
              "      <td>4</td>\n",
              "    </tr>\n",
              "    <tr>\n",
              "      <th>41156</th>\n",
              "      <td>44955</td>\n",
              "      <td>89907</td>\n",
              "      <td>i love you so much || he/him</td>\n",
              "      <td>2020-04-14</td>\n",
              "      <td>tartiicat well newus rift go 70000 amazon rn a...</td>\n",
              "      <td>-1</td>\n",
              "      <td>4</td>\n",
              "    </tr>\n",
              "  </tbody>\n",
              "</table>\n",
              "</div>"
            ],
            "text/plain": [
              "       UserName  ScreenName  ... Sentiment TweetMonth\n",
              "41152     44951       89903  ...         0          4\n",
              "41153     44952       89904  ...        -1          4\n",
              "41154     44953       89905  ...         1          4\n",
              "41155     44954       89906  ...         0          4\n",
              "41156     44955       89907  ...        -1          4\n",
              "\n",
              "[5 rows x 7 columns]"
            ]
          },
          "metadata": {
            "tags": []
          },
          "execution_count": 66
        }
      ]
    },
    {
      "cell_type": "code",
      "metadata": {
        "id": "s5Hbr7L9nALY",
        "colab": {
          "base_uri": "https://localhost:8080/"
        },
        "outputId": "e1d67d04-8f11-4a95-904d-5466ef9bbff3"
      },
      "source": [
        "df.info()"
      ],
      "execution_count": null,
      "outputs": [
        {
          "output_type": "stream",
          "text": [
            "<class 'pandas.core.frame.DataFrame'>\n",
            "RangeIndex: 41157 entries, 0 to 41156\n",
            "Data columns (total 7 columns):\n",
            " #   Column         Non-Null Count  Dtype         \n",
            "---  ------         --------------  -----         \n",
            " 0   UserName       41157 non-null  int64         \n",
            " 1   ScreenName     41157 non-null  int64         \n",
            " 2   Location       32567 non-null  object        \n",
            " 3   TweetAt        41157 non-null  datetime64[ns]\n",
            " 4   OriginalTweet  41157 non-null  object        \n",
            " 5   Sentiment      41157 non-null  object        \n",
            " 6   TweetMonth     41157 non-null  int64         \n",
            "dtypes: datetime64[ns](1), int64(3), object(3)\n",
            "memory usage: 2.2+ MB\n"
          ],
          "name": "stdout"
        }
      ]
    },
    {
      "cell_type": "markdown",
      "metadata": {
        "id": "FydMgt2-p51f"
      },
      "source": [
        "##looking for null values"
      ]
    },
    {
      "cell_type": "code",
      "metadata": {
        "id": "icWVME1Xn5m4"
      },
      "source": [
        "count = df.isnull().sum().sort_values()"
      ],
      "execution_count": null,
      "outputs": []
    },
    {
      "cell_type": "code",
      "metadata": {
        "id": "0eLl8zuponKJ"
      },
      "source": [
        "value = df.isnull().sum()/len(df)*100"
      ],
      "execution_count": null,
      "outputs": []
    },
    {
      "cell_type": "code",
      "metadata": {
        "id": "Ya6B6D4fn8Mg"
      },
      "source": [
        "percentage = value.sort_values()"
      ],
      "execution_count": null,
      "outputs": []
    },
    {
      "cell_type": "code",
      "metadata": {
        "id": "7emJ3s08n-bZ"
      },
      "source": [
        "null_data = pd.concat([count,percentage],axis=1,keys=['Count','Percentage'])"
      ],
      "execution_count": null,
      "outputs": []
    },
    {
      "cell_type": "code",
      "metadata": {
        "id": "JsT03cc4oAW5",
        "colab": {
          "base_uri": "https://localhost:8080/",
          "height": 265
        },
        "outputId": "c0f46e83-c518-4af4-8986-2c50e1524841"
      },
      "source": [
        "null_data"
      ],
      "execution_count": null,
      "outputs": [
        {
          "output_type": "execute_result",
          "data": {
            "text/html": [
              "<div>\n",
              "<style scoped>\n",
              "    .dataframe tbody tr th:only-of-type {\n",
              "        vertical-align: middle;\n",
              "    }\n",
              "\n",
              "    .dataframe tbody tr th {\n",
              "        vertical-align: top;\n",
              "    }\n",
              "\n",
              "    .dataframe thead th {\n",
              "        text-align: right;\n",
              "    }\n",
              "</style>\n",
              "<table border=\"1\" class=\"dataframe\">\n",
              "  <thead>\n",
              "    <tr style=\"text-align: right;\">\n",
              "      <th></th>\n",
              "      <th>Count</th>\n",
              "      <th>Percentage</th>\n",
              "    </tr>\n",
              "  </thead>\n",
              "  <tbody>\n",
              "    <tr>\n",
              "      <th>UserName</th>\n",
              "      <td>0</td>\n",
              "      <td>0.000000</td>\n",
              "    </tr>\n",
              "    <tr>\n",
              "      <th>ScreenName</th>\n",
              "      <td>0</td>\n",
              "      <td>0.000000</td>\n",
              "    </tr>\n",
              "    <tr>\n",
              "      <th>TweetAt</th>\n",
              "      <td>0</td>\n",
              "      <td>0.000000</td>\n",
              "    </tr>\n",
              "    <tr>\n",
              "      <th>OriginalTweet</th>\n",
              "      <td>0</td>\n",
              "      <td>0.000000</td>\n",
              "    </tr>\n",
              "    <tr>\n",
              "      <th>Sentiment</th>\n",
              "      <td>0</td>\n",
              "      <td>0.000000</td>\n",
              "    </tr>\n",
              "    <tr>\n",
              "      <th>TweetMonth</th>\n",
              "      <td>0</td>\n",
              "      <td>0.000000</td>\n",
              "    </tr>\n",
              "    <tr>\n",
              "      <th>Location</th>\n",
              "      <td>8590</td>\n",
              "      <td>20.871298</td>\n",
              "    </tr>\n",
              "  </tbody>\n",
              "</table>\n",
              "</div>"
            ],
            "text/plain": [
              "               Count  Percentage\n",
              "UserName           0    0.000000\n",
              "ScreenName         0    0.000000\n",
              "TweetAt            0    0.000000\n",
              "OriginalTweet      0    0.000000\n",
              "Sentiment          0    0.000000\n",
              "TweetMonth         0    0.000000\n",
              "Location        8590   20.871298"
            ]
          },
          "metadata": {
            "tags": []
          },
          "execution_count": 73
        }
      ]
    },
    {
      "cell_type": "markdown",
      "metadata": {
        "id": "oOvehRy7qGuJ"
      },
      "source": [
        "##cleaning 'OriginalTweet' column"
      ]
    },
    {
      "cell_type": "code",
      "metadata": {
        "id": "yQFi_dDYqpxQ"
      },
      "source": [
        "# code to remove unimportant text from the data\n",
        "\n",
        "list_of_tweets = []\n",
        "b = []\n",
        "c = []\n",
        "for i in range(len(df['OriginalTweet'])):\n",
        "  a = df['OriginalTweet'][i].split(' ')\n",
        "  for j in a:\n",
        "    if 'https' in j:\n",
        "      pass\n",
        "    else:\n",
        "      b.append(j) \n",
        "  c.append(' '.join(b))\n",
        "  b = []\n",
        "for l in c:\n",
        "  list_of_tweets.append(l)  \n"
      ],
      "execution_count": null,
      "outputs": []
    },
    {
      "cell_type": "code",
      "metadata": {
        "id": "pSAc6C0OqkPV"
      },
      "source": [
        "list_of_tweets"
      ],
      "execution_count": null,
      "outputs": []
    },
    {
      "cell_type": "code",
      "metadata": {
        "id": "yxYZH3mUnLDB"
      },
      "source": [
        "# assigning 'OriginalTweet' column to the above list\n",
        "\n",
        "df['OriginalTweet'] = list_of_tweets"
      ],
      "execution_count": null,
      "outputs": []
    },
    {
      "cell_type": "code",
      "metadata": {
        "id": "A11TLdxYnNS5",
        "colab": {
          "base_uri": "https://localhost:8080/"
        },
        "outputId": "bd2a7c33-63bb-4058-c204-5d5a5c4e4aee"
      },
      "source": [
        "# downloading stopwords\n",
        "\n",
        "import nltk\n",
        "nltk.download('stopwords')"
      ],
      "execution_count": null,
      "outputs": [
        {
          "output_type": "stream",
          "text": [
            "[nltk_data] Downloading package stopwords to /root/nltk_data...\n",
            "[nltk_data]   Unzipping corpora/stopwords.zip.\n"
          ],
          "name": "stdout"
        },
        {
          "output_type": "execute_result",
          "data": {
            "text/plain": [
              "True"
            ]
          },
          "metadata": {
            "tags": []
          },
          "execution_count": 7
        }
      ]
    },
    {
      "cell_type": "code",
      "metadata": {
        "id": "kUVDe4V1nRsI"
      },
      "source": [
        "import string\n",
        "from nltk.corpus import stopwords"
      ],
      "execution_count": null,
      "outputs": []
    },
    {
      "cell_type": "code",
      "metadata": {
        "id": "ACXoy2DbnTaZ"
      },
      "source": [
        "# function to remove punctuations and stopwords\n",
        "\n",
        "def text_process(msg):\n",
        "    nopunc =[char for char in msg if char not in string.punctuation]\n",
        "    nopunc=''.join(nopunc)\n",
        "    return ' '.join([word for word in nopunc.split() if word.lower() not in stopwords.words('english')])"
      ],
      "execution_count": null,
      "outputs": []
    },
    {
      "cell_type": "code",
      "metadata": {
        "id": "GPWw90G3nVHY"
      },
      "source": [
        "# processing the text \n",
        "\n",
        "df['OriginalTweet'] = df['OriginalTweet'].apply(lambda x : text_process(x))"
      ],
      "execution_count": null,
      "outputs": []
    },
    {
      "cell_type": "markdown",
      "metadata": {
        "id": "UPFAqbrhq2Su"
      },
      "source": [
        "##cleaning 'Sentiment' column"
      ]
    },
    {
      "cell_type": "code",
      "metadata": {
        "id": "_ZDCgDaRnXtY",
        "colab": {
          "base_uri": "https://localhost:8080/"
        },
        "outputId": "03906f44-28b9-4787-9839-7123ce3020a7"
      },
      "source": [
        "df['Sentiment'].unique()"
      ],
      "execution_count": null,
      "outputs": [
        {
          "output_type": "execute_result",
          "data": {
            "text/plain": [
              "array(['Neutral', 'Positive', 'Extremely Negative', 'Negative',\n",
              "       'Extremely Positive'], dtype=object)"
            ]
          },
          "metadata": {
            "tags": []
          },
          "execution_count": 11
        }
      ]
    },
    {
      "cell_type": "code",
      "metadata": {
        "id": "1nZ2onNmnaDx"
      },
      "source": [
        "# changing the values in the data accordingly\n",
        "\n",
        "for i in range(len(df['Sentiment'])):\n",
        "  if df['Sentiment'][i] == 'Extremely Negative':\n",
        "    df['Sentiment'][i] = 'Negative'\n",
        "  elif df['Sentiment'][i] == 'Extremely Positive':\n",
        "    df['Sentiment'][i] = 'Positive'"
      ],
      "execution_count": null,
      "outputs": []
    },
    {
      "cell_type": "code",
      "metadata": {
        "id": "IeP9EenancBA"
      },
      "source": [
        "# providing necessary class values\n",
        "\n",
        "''' for negative values = -1\n",
        "        Positive values = 1   \n",
        "        neutral values = 0 '''\n",
        "\n",
        "for i in range(len(df['Sentiment'])):\n",
        "  if df['Sentiment'][i] == 'Negative':\n",
        "    df['Sentiment'][i] = -1\n",
        "  elif df['Sentiment'][i] == 'Positive':\n",
        "    df['Sentiment'][i] = 1\n",
        "  elif df['Sentiment'][i] == 'Neutral': \n",
        "    df['Sentiment'][i] = 0"
      ],
      "execution_count": null,
      "outputs": []
    },
    {
      "cell_type": "code",
      "metadata": {
        "id": "RJdXtKuMndrQ"
      },
      "source": [
        "# create an object of stemming function\n",
        "stemmer = SnowballStemmer(\"english\")\n",
        "\n",
        "def stemming(text):    \n",
        "    '''a function which stems each word in the given text'''\n",
        "    text = [stemmer.stem(word) for word in text.split()]\n",
        "    return \" \".join(text) "
      ],
      "execution_count": null,
      "outputs": []
    },
    {
      "cell_type": "code",
      "metadata": {
        "id": "mL3uNaPUnfkw"
      },
      "source": [
        "# applying stemming the function\n",
        "\n",
        "df['OriginalTweet'] = df['OriginalTweet'].apply(stemming)"
      ],
      "execution_count": null,
      "outputs": []
    },
    {
      "cell_type": "markdown",
      "metadata": {
        "id": "EK7pgOHdbJiW"
      },
      "source": [
        "#cleaning TweetAt column"
      ]
    },
    {
      "cell_type": "code",
      "metadata": {
        "id": "BsqyMmXP2-49",
        "colab": {
          "base_uri": "https://localhost:8080/"
        },
        "outputId": "63ca5472-debc-44c3-e1dd-ebfe065ef890"
      },
      "source": [
        "df['TweetAt'].unique()"
      ],
      "execution_count": null,
      "outputs": [
        {
          "output_type": "execute_result",
          "data": {
            "text/plain": [
              "array(['16-03-2020', '17-03-2020', '18-03-2020', '19-03-2020',\n",
              "       '20-03-2020', '21-03-2020', '22-03-2020', '23-03-2020',\n",
              "       '24-03-2020', '25-03-2020', '26-03-2020', '27-03-2020',\n",
              "       '28-03-2020', '29-03-2020', '30-03-2020', '31-03-2020',\n",
              "       '01-04-2020', '02-04-2020', '03-04-2020', '04-04-2020',\n",
              "       '05-04-2020', '06-04-2020', '07-04-2020', '08-04-2020',\n",
              "       '09-04-2020', '10-04-2020', '11-04-2020', '12-04-2020',\n",
              "       '13-04-2020', '14-04-2020'], dtype=object)"
            ]
          },
          "metadata": {
            "tags": []
          },
          "execution_count": 16
        }
      ]
    },
    {
      "cell_type": "code",
      "metadata": {
        "id": "laH_WjZbbJiW"
      },
      "source": [
        "# function to change the string format to date\n",
        "\n",
        "from datetime import datetime\n",
        "\n",
        "def change_to_timestamp(column):\n",
        "  return datetime.strptime(column, '%d-%m-%Y') "
      ],
      "execution_count": null,
      "outputs": []
    },
    {
      "cell_type": "code",
      "metadata": {
        "id": "OVfqdQqKbJiX"
      },
      "source": [
        "# applying the above function to 'TweetAt' column\n",
        "\n",
        "df['TweetAt'] = df['TweetAt'].apply(change_to_timestamp)"
      ],
      "execution_count": null,
      "outputs": []
    },
    {
      "cell_type": "code",
      "metadata": {
        "id": "34t6Lwv6bJiX",
        "colab": {
          "base_uri": "https://localhost:8080/"
        },
        "outputId": "2bfde1d4-509e-4daa-b8fc-3907d351362c"
      },
      "source": [
        "type(df['TweetAt'][0])"
      ],
      "execution_count": null,
      "outputs": [
        {
          "output_type": "execute_result",
          "data": {
            "text/plain": [
              "pandas._libs.tslibs.timestamps.Timestamp"
            ]
          },
          "metadata": {
            "tags": []
          },
          "execution_count": 19
        }
      ]
    },
    {
      "cell_type": "code",
      "metadata": {
        "id": "CKSnBQVKbJiX",
        "colab": {
          "base_uri": "https://localhost:8080/"
        },
        "outputId": "a68558f9-dcdb-4cd4-ba27-8f6303785cb1"
      },
      "source": [
        "df['TweetAt'][20].year"
      ],
      "execution_count": null,
      "outputs": [
        {
          "output_type": "execute_result",
          "data": {
            "text/plain": [
              "2020"
            ]
          },
          "metadata": {
            "tags": []
          },
          "execution_count": 20
        }
      ]
    },
    {
      "cell_type": "code",
      "metadata": {
        "id": "K8KyxSF1bJiX"
      },
      "source": [
        "# getting the month number from 'TweetAt' column\n",
        "\n",
        "df['TweetMonth'] = df['TweetAt'].apply(lambda x : x.month)"
      ],
      "execution_count": null,
      "outputs": []
    },
    {
      "cell_type": "markdown",
      "metadata": {
        "id": "tIVgkRzy40i-"
      },
      "source": [
        "# getting information and drawing conclusions through plots"
      ]
    },
    {
      "cell_type": "code",
      "metadata": {
        "id": "FhUTs8QpbJiY",
        "colab": {
          "base_uri": "https://localhost:8080/",
          "height": 535
        },
        "outputId": "d3cee9d0-f755-413f-b1c8-2986e45bb526"
      },
      "source": [
        "# getting count of months 3 and 4 \n",
        "\n",
        "sns.set(rc={'figure.figsize':(15,8)})\n",
        "sns.countplot(x=df['TweetMonth'])\n",
        "plt.title('Tweets distributions')"
      ],
      "execution_count": null,
      "outputs": [
        {
          "output_type": "execute_result",
          "data": {
            "text/plain": [
              "Text(0.5, 1.0, 'Tweets distributions')"
            ]
          },
          "metadata": {
            "tags": []
          },
          "execution_count": 22
        },
        {
          "output_type": "display_data",
          "data": {
            "image/png": "[encoded data removed]",
            "text/plain": [
              "<Figure size 1080x576 with 1 Axes>"
            ]
          },
          "metadata": {
            "tags": []
          }
        }
      ]
    },
    {
      "cell_type": "markdown",
      "metadata": {
        "id": "HnrW0eAoCefq"
      },
      "source": [
        "\n",
        "\n",
        "*   from above we can say that the tweets are more in the month of march.\n",
        "\n",
        "\n"
      ]
    },
    {
      "cell_type": "code",
      "metadata": {
        "id": "3JC7nEgEbJiY",
        "colab": {
          "base_uri": "https://localhost:8080/"
        },
        "outputId": "36312612-82f0-41cc-e702-5bd38e62bd8e"
      },
      "source": [
        "df['TweetAt'].unique()"
      ],
      "execution_count": null,
      "outputs": [
        {
          "output_type": "execute_result",
          "data": {
            "text/plain": [
              "array(['2020-03-16T00:00:00.000000000', '2020-03-17T00:00:00.000000000',\n",
              "       '2020-03-18T00:00:00.000000000', '2020-03-19T00:00:00.000000000',\n",
              "       '2020-03-20T00:00:00.000000000', '2020-03-21T00:00:00.000000000',\n",
              "       '2020-03-22T00:00:00.000000000', '2020-03-23T00:00:00.000000000',\n",
              "       '2020-03-24T00:00:00.000000000', '2020-03-25T00:00:00.000000000',\n",
              "       '2020-03-26T00:00:00.000000000', '2020-03-27T00:00:00.000000000',\n",
              "       '2020-03-28T00:00:00.000000000', '2020-03-29T00:00:00.000000000',\n",
              "       '2020-03-30T00:00:00.000000000', '2020-03-31T00:00:00.000000000',\n",
              "       '2020-04-01T00:00:00.000000000', '2020-04-02T00:00:00.000000000',\n",
              "       '2020-04-03T00:00:00.000000000', '2020-04-04T00:00:00.000000000',\n",
              "       '2020-04-05T00:00:00.000000000', '2020-04-06T00:00:00.000000000',\n",
              "       '2020-04-07T00:00:00.000000000', '2020-04-08T00:00:00.000000000',\n",
              "       '2020-04-09T00:00:00.000000000', '2020-04-10T00:00:00.000000000',\n",
              "       '2020-04-11T00:00:00.000000000', '2020-04-12T00:00:00.000000000',\n",
              "       '2020-04-13T00:00:00.000000000', '2020-04-14T00:00:00.000000000'],\n",
              "      dtype='datetime64[ns]')"
            ]
          },
          "metadata": {
            "tags": []
          },
          "execution_count": 23
        }
      ]
    },
    {
      "cell_type": "code",
      "metadata": {
        "id": "sc8Px-3ObJiY"
      },
      "source": [
        "# getting differant dates from the unique months\n",
        "\n",
        "list_of_month_3 = []\n",
        "list_of_month_4 = []\n",
        "for i in range(len(df['TweetAt'])):\n",
        "  if df['TweetAt'][i].month == 3:\n",
        "    list_of_month_3.append(df['TweetAt'][i].day)\n",
        "  if df['TweetAt'][i].month == 4:\n",
        "    list_of_month_4.append(df['TweetAt'][i].day)  \n"
      ],
      "execution_count": null,
      "outputs": []
    },
    {
      "cell_type": "code",
      "metadata": {
        "id": "H6ZPZTUNbJiY",
        "colab": {
          "base_uri": "https://localhost:8080/",
          "height": 502
        },
        "outputId": "bb9e011d-93d9-4e1e-9dec-c654bacde9fe"
      },
      "source": [
        "# plotting the frequency of the tweets from month 3 (march)\n",
        "\n",
        "sns.countplot(x=list_of_month_3)"
      ],
      "execution_count": null,
      "outputs": [
        {
          "output_type": "execute_result",
          "data": {
            "text/plain": [
              "<matplotlib.axes._subplots.AxesSubplot at 0x7f37c8a64a90>"
            ]
          },
          "metadata": {
            "tags": []
          },
          "execution_count": 25
        },
        {
          "output_type": "display_data",
          "data": {
            "image/png": "[encoded data removed]",
            "text/plain": [
              "<Figure size 1080x576 with 1 Axes>"
            ]
          },
          "metadata": {
            "tags": []
          }
        }
      ]
    },
    {
      "cell_type": "markdown",
      "metadata": {
        "id": "TcFccqFgCxZK"
      },
      "source": [
        "\n",
        "\n",
        "\n",
        "*   from above we can say that the tweets were maximum on the dates - 20 and 25 of the month march.\n",
        "\n",
        "\n",
        "\n",
        "\n"
      ]
    },
    {
      "cell_type": "code",
      "metadata": {
        "id": "IR-ze-XybJiZ",
        "colab": {
          "base_uri": "https://localhost:8080/",
          "height": 502
        },
        "outputId": "840dbe2e-af89-4c9e-8a75-c92d65599baf"
      },
      "source": [
        "# plotting the frequency of the tweets from month 4 (april)\n",
        "\n",
        "sns.countplot(x=list_of_month_4)"
      ],
      "execution_count": null,
      "outputs": [
        {
          "output_type": "execute_result",
          "data": {
            "text/plain": [
              "<matplotlib.axes._subplots.AxesSubplot at 0x7f37c9345610>"
            ]
          },
          "metadata": {
            "tags": []
          },
          "execution_count": 26
        },
        {
          "output_type": "display_data",
          "data": {
            "image/png": "[encoded data removed]",
            "text/plain": [
              "<Figure size 1080x576 with 1 Axes>"
            ]
          },
          "metadata": {
            "tags": []
          }
        }
      ]
    },
    {
      "cell_type": "markdown",
      "metadata": {
        "id": "1ZzHajz5DBY5"
      },
      "source": [
        "*   from above we can say that the tweets were maximum on the dates - 7 and 8 of the month april."
      ]
    },
    {
      "cell_type": "code",
      "metadata": {
        "id": "AWu0N6nRe7u1",
        "colab": {
          "base_uri": "https://localhost:8080/",
          "height": 535
        },
        "outputId": "f4c6681e-0611-4661-af93-15f9f0370518"
      },
      "source": [
        "# getting count of differant sentiments i.e positive,negative,neutral\n",
        "\n",
        "sns.set(rc={'figure.figsize':(15,8)})\n",
        "sns.countplot(x=df['Sentiment'])\n",
        "plt.title('Sentiment distributions')"
      ],
      "execution_count": null,
      "outputs": [
        {
          "output_type": "execute_result",
          "data": {
            "text/plain": [
              "Text(0.5, 1.0, 'Sentiment distributions')"
            ]
          },
          "metadata": {
            "tags": []
          },
          "execution_count": 27
        },
        {
          "output_type": "display_data",
          "data": {
            "image/png": "[encoded data removed]",
            "text/plain": [
              "<Figure size 1080x576 with 1 Axes>"
            ]
          },
          "metadata": {
            "tags": []
          }
        }
      ]
    },
    {
      "cell_type": "markdown",
      "metadata": {
        "id": "-utyxLybDM6x"
      },
      "source": [
        "*   from above we can say that there are more number of positive sentiment tweets than neutral and negative tweets."
      ]
    },
    {
      "cell_type": "code",
      "metadata": {
        "id": "GgTAXPZsXVSm"
      },
      "source": [
        "# creating a dataframe which contains the count of tweets of a particular location\n",
        "\n",
        "df_2 = df.groupby('Location')['Sentiment'].count().reset_index()"
      ],
      "execution_count": null,
      "outputs": []
    },
    {
      "cell_type": "code",
      "metadata": {
        "id": "E5ShTNvZXlOq"
      },
      "source": [
        "df_2.sort_values(by='Sentiment',ascending=False,inplace=True)"
      ],
      "execution_count": null,
      "outputs": []
    },
    {
      "cell_type": "code",
      "metadata": {
        "id": "AjVuIfG7YD8b"
      },
      "source": [
        "df_2.reset_index(inplace=True)"
      ],
      "execution_count": null,
      "outputs": []
    },
    {
      "cell_type": "code",
      "metadata": {
        "id": "hRcAiMp1Yfy0"
      },
      "source": [
        "df_2.drop(columns='index',inplace=True)"
      ],
      "execution_count": null,
      "outputs": []
    },
    {
      "cell_type": "code",
      "metadata": {
        "id": "DRUGzsTBZKnY"
      },
      "source": [
        "# top 10 countries with most tweets\n",
        "\n",
        "top_10_locations = df_2.head(10)\n"
      ],
      "execution_count": null,
      "outputs": []
    },
    {
      "cell_type": "code",
      "metadata": {
        "colab": {
          "base_uri": "https://localhost:8080/",
          "height": 357
        },
        "id": "gAZ828t1dt8w",
        "outputId": "dd900719-28a5-4e5d-de39-fcd0c079c67c"
      },
      "source": [
        "top_10_locations"
      ],
      "execution_count": null,
      "outputs": [
        {
          "output_type": "execute_result",
          "data": {
            "text/html": [
              "<div>\n",
              "<style scoped>\n",
              "    .dataframe tbody tr th:only-of-type {\n",
              "        vertical-align: middle;\n",
              "    }\n",
              "\n",
              "    .dataframe tbody tr th {\n",
              "        vertical-align: top;\n",
              "    }\n",
              "\n",
              "    .dataframe thead th {\n",
              "        text-align: right;\n",
              "    }\n",
              "</style>\n",
              "<table border=\"1\" class=\"dataframe\">\n",
              "  <thead>\n",
              "    <tr style=\"text-align: right;\">\n",
              "      <th></th>\n",
              "      <th>Location</th>\n",
              "      <th>Sentiment</th>\n",
              "    </tr>\n",
              "  </thead>\n",
              "  <tbody>\n",
              "    <tr>\n",
              "      <th>0</th>\n",
              "      <td>London</td>\n",
              "      <td>540</td>\n",
              "    </tr>\n",
              "    <tr>\n",
              "      <th>1</th>\n",
              "      <td>United States</td>\n",
              "      <td>528</td>\n",
              "    </tr>\n",
              "    <tr>\n",
              "      <th>2</th>\n",
              "      <td>London, England</td>\n",
              "      <td>520</td>\n",
              "    </tr>\n",
              "    <tr>\n",
              "      <th>3</th>\n",
              "      <td>New York, NY</td>\n",
              "      <td>395</td>\n",
              "    </tr>\n",
              "    <tr>\n",
              "      <th>4</th>\n",
              "      <td>Washington, DC</td>\n",
              "      <td>373</td>\n",
              "    </tr>\n",
              "    <tr>\n",
              "      <th>5</th>\n",
              "      <td>United Kingdom</td>\n",
              "      <td>337</td>\n",
              "    </tr>\n",
              "    <tr>\n",
              "      <th>6</th>\n",
              "      <td>Los Angeles, CA</td>\n",
              "      <td>281</td>\n",
              "    </tr>\n",
              "    <tr>\n",
              "      <th>7</th>\n",
              "      <td>India</td>\n",
              "      <td>268</td>\n",
              "    </tr>\n",
              "    <tr>\n",
              "      <th>8</th>\n",
              "      <td>UK</td>\n",
              "      <td>232</td>\n",
              "    </tr>\n",
              "    <tr>\n",
              "      <th>9</th>\n",
              "      <td>Australia</td>\n",
              "      <td>225</td>\n",
              "    </tr>\n",
              "  </tbody>\n",
              "</table>\n",
              "</div>"
            ],
            "text/plain": [
              "          Location  Sentiment\n",
              "0           London        540\n",
              "1    United States        528\n",
              "2  London, England        520\n",
              "3     New York, NY        395\n",
              "4   Washington, DC        373\n",
              "5   United Kingdom        337\n",
              "6  Los Angeles, CA        281\n",
              "7            India        268\n",
              "8               UK        232\n",
              "9        Australia        225"
            ]
          },
          "metadata": {
            "tags": []
          },
          "execution_count": 57
        }
      ]
    },
    {
      "cell_type": "code",
      "metadata": {
        "colab": {
          "base_uri": "https://localhost:8080/",
          "height": 518
        },
        "id": "Sq-8HhwQf6Oo",
        "outputId": "317aea07-c836-4cb6-d4bc-bc2c9c28f5cf"
      },
      "source": [
        "sns.set(rc={'figure.figsize':(20,8)})\n",
        "plt.bar(top_10_locations['Location'], top_10_locations['Sentiment'], color ='maroon',\n",
        "        width = 0.4)\n",
        " \n",
        "plt.xlabel(\"location\")\n",
        "plt.ylabel(\"No. of tweets\")\n",
        "plt.title(\"Top 10 maximum tweet locations\")\n",
        "plt.show()"
      ],
      "execution_count": null,
      "outputs": [
        {
          "output_type": "display_data",
          "data": {
            "image/png": "[encoded data removed]",
            "text/plain": [
              "<Figure size 1440x576 with 1 Axes>"
            ]
          },
          "metadata": {
            "tags": []
          }
        }
      ]
    },
    {
      "cell_type": "markdown",
      "metadata": {
        "id": "yux15krObAHl"
      },
      "source": [
        "#training model"
      ]
    },
    {
      "cell_type": "code",
      "metadata": {
        "id": "VqqYEi-cFyJg"
      },
      "source": [
        "# vectorizing the data from 'OriginalTweet' column\n",
        "\n",
        "vectorizer = CountVectorizer(max_df = 0.9,min_df = 10)\n",
        "X = vectorizer.fit_transform(df['OriginalTweet'])\n",
        "\n",
        "# assigning dependent and independent variables\n",
        "\n",
        "X = X.toarray() \n",
        "y = df['Sentiment']\n",
        "y=y.astype('int')"
      ],
      "execution_count": null,
      "outputs": []
    },
    {
      "cell_type": "code",
      "metadata": {
        "id": "aVLh228C-MCY"
      },
      "source": [
        "\n",
        "# neg_matrix = cvector.transform(df[df.Sentiment == 'Negative'].OriginalTweet)\n",
        "# ext_neg_matrix = cvector.transform(df[df.Sentiment == 'Extremely Negative'].OriginalTweet)\n",
        "# neu_matrix = cvector.transform(df[df.Sentiment == 'Neutral'].OriginalTweet)\n",
        "# ext_pos_matrix = cvector.transform(df[df.Sentiment == 'Extremely Positive'].OriginalTweet)\n",
        "# pos_matrix = cvector.transform(df[df.Sentiment == 'Positve'].OriginalTweet)"
      ],
      "execution_count": null,
      "outputs": []
    },
    {
      "cell_type": "code",
      "metadata": {
        "colab": {
          "base_uri": "https://localhost:8080/"
        },
        "id": "-NnNbC6gE6vd",
        "outputId": "93ac8d58-b4d4-4544-fdd1-345acdca010d"
      },
      "source": [
        "# splitting the data into train and test\n",
        "\n",
        "x_train,x_test,y_train,y_test = train_test_split(X,y,test_size = 0.2,random_state = 225)\n",
        "print('x_train shape: ',x_train.shape)\n",
        "print('x_test shape: ',x_test.shape)\n",
        "print('y_train shape: ',y_train.shape)\n",
        "print('y_test shape: ',y_test.shape)"
      ],
      "execution_count": null,
      "outputs": [
        {
          "output_type": "stream",
          "text": [
            "x_train shape:  (32925, 5121)\n",
            "x_test shape:  (8232, 5121)\n",
            "y_train shape:  (32925,)\n",
            "y_test shape:  (8232,)\n"
          ],
          "name": "stdout"
        }
      ]
    },
    {
      "cell_type": "code",
      "metadata": {
        "colab": {
          "base_uri": "https://localhost:8080/"
        },
        "id": "cDeIi7d0EyUV",
        "outputId": "3f909324-2815-4ee1-c026-568d8ea7e6df"
      },
      "source": [
        "# applying logistic regression model\n",
        "\n",
        "model = LogisticRegression(multi_class='ovr', solver='lbfgs')\n",
        "model.fit(x_train, y_train)"
      ],
      "execution_count": null,
      "outputs": [
        {
          "output_type": "execute_result",
          "data": {
            "text/plain": [
              "LogisticRegression(C=1.0, class_weight=None, dual=False, fit_intercept=True,\n",
              "                   intercept_scaling=1, l1_ratio=None, max_iter=100,\n",
              "                   multi_class='ovr', n_jobs=None, penalty='l2',\n",
              "                   random_state=None, solver='lbfgs', tol=0.0001, verbose=0,\n",
              "                   warm_start=False)"
            ]
          },
          "metadata": {
            "tags": []
          },
          "execution_count": 88
        }
      ]
    },
    {
      "cell_type": "code",
      "metadata": {
        "id": "DR1ckbr0RG2-"
      },
      "source": [
        "# getting appropriate predictions on train and test sets\n",
        "\n",
        "prediction_test = model.predict(x_test)\n",
        "prediction_train = model.predict(x_train)"
      ],
      "execution_count": null,
      "outputs": []
    },
    {
      "cell_type": "markdown",
      "metadata": {
        "id": "7SbngWze6gQi"
      },
      "source": [
        "## evaluating metrics of the model"
      ]
    },
    {
      "cell_type": "code",
      "metadata": {
        "id": "t7vn9Hi_7EdL"
      },
      "source": [
        "from sklearn.metrics import accuracy_score,precision_score,recall_score,classification_report,f1_score,confusion_matrix"
      ],
      "execution_count": null,
      "outputs": []
    },
    {
      "cell_type": "code",
      "metadata": {
        "colab": {
          "base_uri": "https://localhost:8080/",
          "height": 586
        },
        "id": "iCQIpyNU6c_Z",
        "outputId": "0113ea69-833a-4ae7-eaca-d503892bb7b2"
      },
      "source": [
        "# getting train set confusion matrix\n",
        "\n",
        "labels = ['neutral', 'positive','negative']\n",
        "cm_train = confusion_matrix(prediction_train,y_train)\n",
        "print(cm_train)\n",
        "\n",
        "ax= plt.subplot()\n",
        "sns.heatmap(cm_train, annot=True, ax = ax) #annot=True to annotate cells\n",
        "\n",
        "# labels, title and ticks\n",
        "ax.set_xlabel('Predicted labels')\n",
        "ax.set_ylabel('True labels')\n",
        "ax.set_title('Confusion Matrix')\n",
        "ax.xaxis.set_ticklabels(labels)\n",
        "ax.yaxis.set_ticklabels(labels)"
      ],
      "execution_count": null,
      "outputs": [
        {
          "output_type": "stream",
          "text": [
            "[[10959   519   837]\n",
            " [  426  5011   412]\n",
            " [  914   624 13223]]\n"
          ],
          "name": "stdout"
        },
        {
          "output_type": "execute_result",
          "data": {
            "text/plain": [
              "[Text(0, 0.5, 'neutral'), Text(0, 1.5, 'positive'), Text(0, 2.5, 'negative')]"
            ]
          },
          "metadata": {
            "tags": []
          },
          "execution_count": 91
        },
        {
          "output_type": "display_data",
          "data": {
            "image/png": "[encoded data removed]",
            "text/plain": [
              "<Figure size 1080x576 with 2 Axes>"
            ]
          },
          "metadata": {
            "tags": []
          }
        }
      ]
    },
    {
      "cell_type": "code",
      "metadata": {
        "colab": {
          "base_uri": "https://localhost:8080/",
          "height": 586
        },
        "id": "NaHwDwIi6d7g",
        "outputId": "86e3ea24-ad0e-45e5-e8cd-be89796bb45d"
      },
      "source": [
        "# getting test set confusion matrix\n",
        "\n",
        "labels = ['neutral', 'positive','negative']\n",
        "cm_test = confusion_matrix(prediction_test,y_test)\n",
        "print(cm_test)\n",
        "\n",
        "ax= plt.subplot()\n",
        "sns.heatmap(cm_test, annot=True, ax = ax) #annot=True to annotate cells\n",
        "\n",
        "# labels, title and ticks\n",
        "ax.set_xlabel('Predicted labels')\n",
        "ax.set_ylabel('True labels')\n",
        "ax.set_title('Confusion Matrix')\n",
        "ax.xaxis.set_ticklabels(labels)\n",
        "ax.yaxis.set_ticklabels(labels)"
      ],
      "execution_count": null,
      "outputs": [
        {
          "output_type": "stream",
          "text": [
            "[[2523  229  374]\n",
            " [ 222 1075  185]\n",
            " [ 354  255 3015]]\n"
          ],
          "name": "stdout"
        },
        {
          "output_type": "execute_result",
          "data": {
            "text/plain": [
              "[Text(0, 0.5, 'neutral'), Text(0, 1.5, 'positive'), Text(0, 2.5, 'negative')]"
            ]
          },
          "metadata": {
            "tags": []
          },
          "execution_count": 92
        },
        {
          "output_type": "display_data",
          "data": {
            "image/png": "[encoded data removed]",
            "text/plain": [
              "<Figure size 1080x576 with 2 Axes>"
            ]
          },
          "metadata": {
            "tags": []
          }
        }
      ]
    },
    {
      "cell_type": "code",
      "metadata": {
        "colab": {
          "base_uri": "https://localhost:8080/"
        },
        "id": "EnQSZJV0kpfm",
        "outputId": "864557f4-0377-4177-c04a-96535b7a682a"
      },
      "source": [
        "# getting differant scores of train set\n",
        "\n",
        "print('Accuracy score of train set: ',accuracy_score(prediction_train,y_train))\n",
        "print('Precision of train set: ',precision_score(prediction_train,y_train, average = 'weighted'))\n",
        "print('Recall of train set: ',recall_score(prediction_train,y_train, average = 'weighted'))\n",
        "print('F1-score of train set: ',f1_score(prediction_train, y_train, average='weighted'))"
      ],
      "execution_count": null,
      "outputs": [
        {
          "output_type": "stream",
          "text": [
            "Accuracy score of train set:  0.8866514806378132\n",
            "Precision of train set:  0.8875615266256266\n",
            "Recall of train set:  0.8866514806378132\n",
            "F1-score of train set:  0.8869708854574941\n"
          ],
          "name": "stdout"
        }
      ]
    },
    {
      "cell_type": "code",
      "metadata": {
        "colab": {
          "base_uri": "https://localhost:8080/"
        },
        "id": "VxOw-90petsX",
        "outputId": "57e1b3da-079e-45bc-d153-260756ba09a0"
      },
      "source": [
        "# getting differant scores of test set\n",
        "\n",
        "print('Accuracy score of test set: ',accuracy_score(prediction_test,y_test))\n",
        "print('Precision of test set: ',precision_score(prediction_test,y_test, average = 'weighted'))\n",
        "print('Recall of test set: ',recall_score(prediction_test,y_test, average = 'weighted'))\n",
        "print('F1-score of test set: ',f1_score(prediction_test, y_test, average='weighted'))"
      ],
      "execution_count": null,
      "outputs": [
        {
          "output_type": "stream",
          "text": [
            "Accuracy score of test set:  0.8033284742468416\n",
            "Precision of test set:  0.8046727775737095\n",
            "Recall of test set:  0.8033284742468416\n",
            "F1-score of test set:  0.8038953821105832\n"
          ],
          "name": "stdout"
        }
      ]
    },
    {
      "cell_type": "code",
      "metadata": {
        "colab": {
          "base_uri": "https://localhost:8080/"
        },
        "id": "qULWAtUti_FV",
        "outputId": "c3305a93-a0d9-4b9d-8c81-e6f2e59c2662"
      },
      "source": [
        "# getting classification report for train and test sets\n",
        "\n",
        "print('Train set report')\n",
        "print(\"\\n\")\n",
        "print(classification_report(y_train,prediction_train))\n",
        "print(\"\\n\")\n",
        "print('Test set report')\n",
        "print(\"\\n\")\n",
        "print(classification_report(y_test,prediction_test))"
      ],
      "execution_count": null,
      "outputs": [
        {
          "output_type": "stream",
          "text": [
            "Train set report\n",
            "\n",
            "\n",
            "              precision    recall  f1-score   support\n",
            "\n",
            "          -1       0.89      0.89      0.89     12299\n",
            "           0       0.86      0.81      0.83      6154\n",
            "           1       0.90      0.91      0.90     14472\n",
            "\n",
            "    accuracy                           0.89     32925\n",
            "   macro avg       0.88      0.87      0.88     32925\n",
            "weighted avg       0.89      0.89      0.89     32925\n",
            "\n",
            "\n",
            "\n",
            "Test set report\n",
            "\n",
            "\n",
            "              precision    recall  f1-score   support\n",
            "\n",
            "          -1       0.81      0.81      0.81      3099\n",
            "           0       0.73      0.69      0.71      1559\n",
            "           1       0.83      0.84      0.84      3574\n",
            "\n",
            "    accuracy                           0.80      8232\n",
            "   macro avg       0.79      0.78      0.79      8232\n",
            "weighted avg       0.80      0.80      0.80      8232\n",
            "\n"
          ],
          "name": "stdout"
        }
      ]
    }
  ]
}