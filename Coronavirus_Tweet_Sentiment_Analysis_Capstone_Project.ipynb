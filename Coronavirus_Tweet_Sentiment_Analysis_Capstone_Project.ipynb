{
  "nbformat": 4,
  "nbformat_minor": 0,
  "metadata": {
    "kernelspec": {
      "display_name": "Python 3",
      "language": "python",
      "name": "python3"
    },
    "language_info": {
      "codemirror_mode": {
        "name": "ipython",
        "version": 3
      },
      "file_extension": ".py",
      "mimetype": "text/x-python",
      "name": "python",
      "nbconvert_exporter": "python",
      "pygments_lexer": "ipython3",
      "version": "3.6.6"
    },
    "colab": {
      "name": "Coronavirus Tweet Sentiment Analysis - Capstone Project.ipynb",
      "provenance": [],
      "include_colab_link": true
    }
  },
  "cells": [
    {
      "cell_type": "markdown",
      "metadata": {
        "id": "view-in-github",
        "colab_type": "text"
      },
      "source": [
        "<a href=\"https://colab.research.google.com/github/arifuddinatif/Coronavirus-Tweet-Sentiment-Analysis/blob/main/Coronavirus_Tweet_Sentiment_Analysis_Capstone_Project.ipynb\" target=\"_parent\"><img src=\"https://colab.research.google.com/assets/colab-badge.svg\" alt=\"Open In Colab\"/></a>"
      ]
    },
    {
      "cell_type": "markdown",
      "metadata": {
        "id": "tOGC-qoyhJeX"
      },
      "source": [
        "# <b><u> Project Title : Sentiment Analysis : Predicting sentiment of COVID-19 tweets</u></b>"
      ]
    },
    {
      "cell_type": "markdown",
      "metadata": {
        "id": "Y06xIdG26kRF"
      },
      "source": [
        "## <b> Problem Description </b>\n",
        "\n",
        "### This challenge asks you to build a classification model to predict the sentiment of COVID-19 tweets.The tweets have been pulled from Twitter and manual tagging has been done then.\n",
        "\n",
        "### The names and usernames have been given codes to avoid any privacy concerns.\n",
        "\n",
        "### You are given the following information:\n",
        "1. Location\n",
        "2. Tweet At\n",
        "3. Original Tweet\n",
        "4. Label"
      ]
    },
    {
      "cell_type": "code",
      "metadata": {
        "id": "EWNxgGkijH2W"
      },
      "source": [
        "# loading libraries\n",
        "\n",
        "import pandas as pd\n",
        "import numpy as np\n",
        "import matplotlib.pyplot as plt\n",
        "import seaborn as sns\n",
        "\n",
        "from nltk.corpus import stopwords\n",
        "from nltk.tokenize import word_tokenize\n",
        "from sklearn.feature_extraction.text import TfidfVectorizer\n",
        "from sklearn.model_selection import train_test_split\n",
        "from nltk.stem.snowball import SnowballStemmer\n",
        "from sklearn.feature_extraction.text import CountVectorizer\n",
        "\n",
        "from sklearn.metrics import accuracy_score,precision_score,recall_score,classification_report,f1_score\n",
        "from sklearn.linear_model import LogisticRegression\n",
        "from sklearn.svm import SVC\n",
        "\n",
        "import warnings\n",
        "warnings.filterwarnings('ignore')"
      ],
      "execution_count": null,
      "outputs": []
    },
    {
      "cell_type": "code",
      "metadata": {
        "id": "dByMsuzT8Tnw"
      },
      "source": [
        "from google.colab import drive\n",
        "drive.mount('/content/drive')"
      ],
      "execution_count": null,
      "outputs": []
    },
    {
      "cell_type": "code",
      "metadata": {
        "id": "iLc91N8OhZ8i"
      },
      "source": [
        "# accessing the data\n",
        "\n",
        "df = pd.read_csv('/content/drive/MyDrive/Colab Notebooks/projects/Supervised ML - Classification/dat files/Coronavirus Tweets.csv',encoding='latin-1')"
      ],
      "execution_count": null,
      "outputs": []
    },
    {
      "cell_type": "markdown",
      "metadata": {
        "id": "Fq3HGHtcpzUo"
      },
      "source": [
        "#Performing EDA on the data"
      ]
    },
    {
      "cell_type": "code",
      "metadata": {
        "id": "bSQRErglhZ3i"
      },
      "source": [
        "df.head()"
      ],
      "execution_count": null,
      "outputs": []
    },
    {
      "cell_type": "code",
      "metadata": {
        "id": "d9FkSGNOm_Ep"
      },
      "source": [
        "df.tail()"
      ],
      "execution_count": null,
      "outputs": []
    },
    {
      "cell_type": "code",
      "metadata": {
        "id": "s5Hbr7L9nALY"
      },
      "source": [
        "df.info()"
      ],
      "execution_count": null,
      "outputs": []
    },
    {
      "cell_type": "markdown",
      "metadata": {
        "id": "FydMgt2-p51f"
      },
      "source": [
        "##looking for null values"
      ]
    },
    {
      "cell_type": "code",
      "metadata": {
        "id": "icWVME1Xn5m4"
      },
      "source": [
        "count = df.isnull().sum().sort_values()"
      ],
      "execution_count": null,
      "outputs": []
    },
    {
      "cell_type": "code",
      "metadata": {
        "id": "0eLl8zuponKJ"
      },
      "source": [
        "value = df.isnull().sum()/len(df)*100"
      ],
      "execution_count": null,
      "outputs": []
    },
    {
      "cell_type": "code",
      "metadata": {
        "id": "Ya6B6D4fn8Mg"
      },
      "source": [
        "percentage = value.sort_values()"
      ],
      "execution_count": null,
      "outputs": []
    },
    {
      "cell_type": "code",
      "metadata": {
        "id": "7emJ3s08n-bZ"
      },
      "source": [
        "null_data = pd.concat([count,percentage],axis=1,keys=['Count','Percentage'])"
      ],
      "execution_count": null,
      "outputs": []
    },
    {
      "cell_type": "code",
      "metadata": {
        "id": "JsT03cc4oAW5"
      },
      "source": [
        "null_data"
      ],
      "execution_count": null,
      "outputs": []
    },
    {
      "cell_type": "markdown",
      "metadata": {
        "id": "oOvehRy7qGuJ"
      },
      "source": [
        "##cleaning 'OriginalTweet' column"
      ]
    },
    {
      "cell_type": "code",
      "metadata": {
        "id": "yQFi_dDYqpxQ"
      },
      "source": [
        "# code to remove unimportant text from the data\n",
        "\n",
        "list_of_tweets = []\n",
        "b = []\n",
        "c = []\n",
        "for i in range(len(df['OriginalTweet'])):\n",
        "  a = df['OriginalTweet'][i].split(' ')\n",
        "  for j in a:\n",
        "    if 'https' in j:\n",
        "      pass\n",
        "    else:\n",
        "      b.append(j) \n",
        "  c.append(' '.join(b))\n",
        "  b = []\n",
        "for l in c:\n",
        "  list_of_tweets.append(l)  \n"
      ],
      "execution_count": null,
      "outputs": []
    },
    {
      "cell_type": "code",
      "metadata": {
        "id": "pSAc6C0OqkPV"
      },
      "source": [
        "list_of_tweets"
      ],
      "execution_count": null,
      "outputs": []
    },
    {
      "cell_type": "code",
      "metadata": {
        "id": "yxYZH3mUnLDB"
      },
      "source": [
        "# assigning 'OriginalTweet' column to the above list\n",
        "\n",
        "df['OriginalTweet'] = list_of_tweets"
      ],
      "execution_count": null,
      "outputs": []
    },
    {
      "cell_type": "code",
      "metadata": {
        "id": "A11TLdxYnNS5"
      },
      "source": [
        "# downloading stopwords\n",
        "\n",
        "import nltk\n",
        "nltk.download('stopwords')"
      ],
      "execution_count": null,
      "outputs": []
    },
    {
      "cell_type": "code",
      "metadata": {
        "id": "kUVDe4V1nRsI"
      },
      "source": [
        "import string\n",
        "from nltk.corpus import stopwords"
      ],
      "execution_count": null,
      "outputs": []
    },
    {
      "cell_type": "code",
      "metadata": {
        "id": "ACXoy2DbnTaZ"
      },
      "source": [
        "# function to remove punctuations and stopwords\n",
        "\n",
        "def text_process(msg):\n",
        "    nopunc =[char for char in msg if char not in string.punctuation]\n",
        "    nopunc=''.join(nopunc)\n",
        "    return ' '.join([word for word in nopunc.split() if word.lower() not in stopwords.words('english')])"
      ],
      "execution_count": null,
      "outputs": []
    },
    {
      "cell_type": "code",
      "metadata": {
        "id": "GPWw90G3nVHY"
      },
      "source": [
        "# processing the text \n",
        "\n",
        "df['OriginalTweet'] = df['OriginalTweet'].apply(lambda x : text_process(x))"
      ],
      "execution_count": null,
      "outputs": []
    },
    {
      "cell_type": "markdown",
      "metadata": {
        "id": "UPFAqbrhq2Su"
      },
      "source": [
        "##cleaning 'Sentiment' column"
      ]
    },
    {
      "cell_type": "code",
      "metadata": {
        "id": "_ZDCgDaRnXtY"
      },
      "source": [
        "df['Sentiment'].unique()"
      ],
      "execution_count": null,
      "outputs": []
    },
    {
      "cell_type": "code",
      "metadata": {
        "id": "1nZ2onNmnaDx"
      },
      "source": [
        "# changing the values in the data accordingly\n",
        "\n",
        "for i in range(len(df['Sentiment'])):\n",
        "  if df['Sentiment'][i] == 'Extremely Negative':\n",
        "    df['Sentiment'][i] = 'Negative'\n",
        "  elif df['Sentiment'][i] == 'Extremely Positive':\n",
        "    df['Sentiment'][i] = 'Positive'"
      ],
      "execution_count": null,
      "outputs": []
    },
    {
      "cell_type": "code",
      "metadata": {
        "id": "IeP9EenancBA"
      },
      "source": [
        "# providing necessary class values\n",
        "\n",
        "''' for negative values = -1\n",
        "        Positive values = 1   \n",
        "        neutral values = 0 '''\n",
        "\n",
        "for i in range(len(df['Sentiment'])):\n",
        "  if df['Sentiment'][i] == 'Negative':\n",
        "    df['Sentiment'][i] = -1\n",
        "  elif df['Sentiment'][i] == 'Positive':\n",
        "    df['Sentiment'][i] = 1\n",
        "  elif df['Sentiment'][i] == 'Neutral': \n",
        "    df['Sentiment'][i] = 0"
      ],
      "execution_count": null,
      "outputs": []
    },
    {
      "cell_type": "code",
      "metadata": {
        "id": "RJdXtKuMndrQ"
      },
      "source": [
        "# create an object of stemming function\n",
        "stemmer = SnowballStemmer(\"english\")\n",
        "\n",
        "def stemming(text):    \n",
        "    '''a function which stems each word in the given text'''\n",
        "    text = [stemmer.stem(word) for word in text.split()]\n",
        "    return \" \".join(text) "
      ],
      "execution_count": null,
      "outputs": []
    },
    {
      "cell_type": "code",
      "metadata": {
        "id": "mL3uNaPUnfkw"
      },
      "source": [
        "# applying stemming the function\n",
        "\n",
        "df['OriginalTweet'] = df['OriginalTweet'].apply(stemming)"
      ],
      "execution_count": null,
      "outputs": []
    },
    {
      "cell_type": "markdown",
      "metadata": {
        "id": "EK7pgOHdbJiW"
      },
      "source": [
        "#cleaning TweetAt column"
      ]
    },
    {
      "cell_type": "code",
      "metadata": {
        "id": "BsqyMmXP2-49"
      },
      "source": [
        "df['TweetAt'].unique()"
      ],
      "execution_count": null,
      "outputs": []
    },
    {
      "cell_type": "code",
      "metadata": {
        "id": "laH_WjZbbJiW"
      },
      "source": [
        "# function to change the string format to date\n",
        "\n",
        "from datetime import datetime\n",
        "\n",
        "def change_to_timestamp(column):\n",
        "  return datetime.strptime(column, '%d-%m-%Y') "
      ],
      "execution_count": null,
      "outputs": []
    },
    {
      "cell_type": "code",
      "metadata": {
        "id": "OVfqdQqKbJiX"
      },
      "source": [
        "# applying the above function to 'TweetAt' column\n",
        "\n",
        "df['TweetAt'] = df['TweetAt'].apply(change_to_timestamp)"
      ],
      "execution_count": null,
      "outputs": []
    },
    {
      "cell_type": "code",
      "metadata": {
        "id": "34t6Lwv6bJiX"
      },
      "source": [
        "type(df['TweetAt'][0])"
      ],
      "execution_count": null,
      "outputs": []
    },
    {
      "cell_type": "code",
      "metadata": {
        "id": "CKSnBQVKbJiX"
      },
      "source": [
        "df['TweetAt'][20].year"
      ],
      "execution_count": null,
      "outputs": []
    },
    {
      "cell_type": "code",
      "metadata": {
        "id": "K8KyxSF1bJiX"
      },
      "source": [
        "# getting the month number from 'TweetAt' column\n",
        "\n",
        "df['TweetMonth'] = df['TweetAt'].apply(lambda x : x.month)"
      ],
      "execution_count": null,
      "outputs": []
    },
    {
      "cell_type": "markdown",
      "metadata": {
        "id": "tIVgkRzy40i-"
      },
      "source": [
        "# getting information and drawing conclusions through plots"
      ]
    },
    {
      "cell_type": "code",
      "metadata": {
        "id": "FhUTs8QpbJiY"
      },
      "source": [
        "# getting count of months 3 and 4 \n",
        "\n",
        "sns.set(rc={'figure.figsize':(15,8)})\n",
        "sns.countplot(x=df['TweetMonth'])\n",
        "plt.title('Tweets distributions')"
      ],
      "execution_count": null,
      "outputs": []
    },
    {
      "cell_type": "markdown",
      "metadata": {
        "id": "HnrW0eAoCefq"
      },
      "source": [
        "\n",
        "\n",
        "*   from above we can say that the tweets are more in the month of march.\n",
        "\n",
        "\n"
      ]
    },
    {
      "cell_type": "code",
      "metadata": {
        "id": "3JC7nEgEbJiY"
      },
      "source": [
        "df['TweetAt'].unique()"
      ],
      "execution_count": null,
      "outputs": []
    },
    {
      "cell_type": "code",
      "metadata": {
        "id": "sc8Px-3ObJiY"
      },
      "source": [
        "# getting differant dates from the unique months\n",
        "\n",
        "list_of_month_3 = []\n",
        "list_of_month_4 = []\n",
        "for i in range(len(df['TweetAt'])):\n",
        "  if df['TweetAt'][i].month == 3:\n",
        "    list_of_month_3.append(df['TweetAt'][i].day)\n",
        "  if df['TweetAt'][i].month == 4:\n",
        "    list_of_month_4.append(df['TweetAt'][i].day)  \n"
      ],
      "execution_count": null,
      "outputs": []
    },
    {
      "cell_type": "code",
      "metadata": {
        "id": "H6ZPZTUNbJiY"
      },
      "source": [
        "# plotting the frequency of the tweets from month 3 (march)\n",
        "\n",
        "sns.countplot(x=list_of_month_3)"
      ],
      "execution_count": null,
      "outputs": []
    },
    {
      "cell_type": "markdown",
      "metadata": {
        "id": "TcFccqFgCxZK"
      },
      "source": [
        "\n",
        "\n",
        "\n",
        "*   from above we can say that the tweets were maximum on the dates - 20 and 25 of the month march.\n",
        "\n",
        "\n",
        "\n",
        "\n"
      ]
    },
    {
      "cell_type": "code",
      "metadata": {
        "id": "IR-ze-XybJiZ"
      },
      "source": [
        "# plotting the frequency of the tweets from month 4 (april)\n",
        "\n",
        "sns.countplot(x=list_of_month_4)"
      ],
      "execution_count": null,
      "outputs": []
    },
    {
      "cell_type": "markdown",
      "metadata": {
        "id": "1ZzHajz5DBY5"
      },
      "source": [
        "*   from above we can say that the tweets were maximum on the dates - 7 and 8 of the month april."
      ]
    },
    {
      "cell_type": "code",
      "metadata": {
        "id": "AWu0N6nRe7u1"
      },
      "source": [
        "# getting count of differant sentiments i.e positive,negative,neutral\n",
        "\n",
        "sns.set(rc={'figure.figsize':(15,8)})\n",
        "sns.countplot(x=df['Sentiment'])\n",
        "plt.title('Sentiment distributions')"
      ],
      "execution_count": null,
      "outputs": []
    },
    {
      "cell_type": "markdown",
      "metadata": {
        "id": "-utyxLybDM6x"
      },
      "source": [
        "*   from above we can say that there are more number of positive sentiment tweets than neutral and negative tweets."
      ]
    },
    {
      "cell_type": "code",
      "metadata": {
        "id": "20GOhE55bJiZ"
      },
      "source": [
        "df.info()"
      ],
      "execution_count": null,
      "outputs": []
    },
    {
      "cell_type": "code",
      "metadata": {
        "id": "saKx0K2GbJia"
      },
      "source": [
        "df.head()"
      ],
      "execution_count": null,
      "outputs": []
    },
    {
      "cell_type": "markdown",
      "metadata": {
        "id": "yux15krObAHl"
      },
      "source": [
        "#training model"
      ]
    },
    {
      "cell_type": "code",
      "metadata": {
        "id": "VqqYEi-cFyJg"
      },
      "source": [
        "# vectorizing the data from 'OriginalTweet' column\n",
        "\n",
        "vectorizer = CountVectorizer(max_df = 0.9,min_df = 10)\n",
        "X = vectorizer.fit_transform(df['OriginalTweet'])\n",
        "\n",
        "# assigning dependent and independent variables\n",
        "\n",
        "X = X.toarray() \n",
        "y = df['Sentiment']\n",
        "y=y.astype('int')"
      ],
      "execution_count": null,
      "outputs": []
    },
    {
      "cell_type": "code",
      "metadata": {
        "id": "aVLh228C-MCY"
      },
      "source": [
        "\n",
        "# neg_matrix = cvector.transform(df[df.Sentiment == 'Negative'].OriginalTweet)\n",
        "# ext_neg_matrix = cvector.transform(df[df.Sentiment == 'Extremely Negative'].OriginalTweet)\n",
        "# neu_matrix = cvector.transform(df[df.Sentiment == 'Neutral'].OriginalTweet)\n",
        "# ext_pos_matrix = cvector.transform(df[df.Sentiment == 'Extremely Positive'].OriginalTweet)\n",
        "# pos_matrix = cvector.transform(df[df.Sentiment == 'Positve'].OriginalTweet)"
      ],
      "execution_count": null,
      "outputs": []
    },
    {
      "cell_type": "code",
      "metadata": {
        "colab": {
          "base_uri": "https://localhost:8080/"
        },
        "id": "-NnNbC6gE6vd",
        "outputId": "93ac8d58-b4d4-4544-fdd1-345acdca010d"
      },
      "source": [
        "# splitting the data into train and test\n",
        "\n",
        "x_train,x_test,y_train,y_test = train_test_split(X,y,test_size = 0.2,random_state = 225)\n",
        "print('x_train shape: ',x_train.shape)\n",
        "print('x_test shape: ',x_test.shape)\n",
        "print('y_train shape: ',y_train.shape)\n",
        "print('y_test shape: ',y_test.shape)"
      ],
      "execution_count": null,
      "outputs": [
        {
          "output_type": "stream",
          "text": [
            "x_train shape:  (32925, 5121)\n",
            "x_test shape:  (8232, 5121)\n",
            "y_train shape:  (32925,)\n",
            "y_test shape:  (8232,)\n"
          ],
          "name": "stdout"
        }
      ]
    },
    {
      "cell_type": "code",
      "metadata": {
        "colab": {
          "base_uri": "https://localhost:8080/"
        },
        "id": "cDeIi7d0EyUV",
        "outputId": "3f909324-2815-4ee1-c026-568d8ea7e6df"
      },
      "source": [
        "# applying logistic regression model\n",
        "\n",
        "model = LogisticRegression(multi_class='ovr', solver='lbfgs')\n",
        "model.fit(x_train, y_train)"
      ],
      "execution_count": null,
      "outputs": [
        {
          "output_type": "execute_result",
          "data": {
            "text/plain": [
              "LogisticRegression(C=1.0, class_weight=None, dual=False, fit_intercept=True,\n",
              "                   intercept_scaling=1, l1_ratio=None, max_iter=100,\n",
              "                   multi_class='ovr', n_jobs=None, penalty='l2',\n",
              "                   random_state=None, solver='lbfgs', tol=0.0001, verbose=0,\n",
              "                   warm_start=False)"
            ]
          },
          "metadata": {
            "tags": []
          },
          "execution_count": 88
        }
      ]
    },
    {
      "cell_type": "code",
      "metadata": {
        "id": "DR1ckbr0RG2-"
      },
      "source": [
        "# getting appropriate predictions on train and test sets\n",
        "\n",
        "prediction_test = model.predict(x_test)\n",
        "prediction_train = model.predict(x_train)"
      ],
      "execution_count": null,
      "outputs": []
    },
    {
      "cell_type": "markdown",
      "metadata": {
        "id": "7SbngWze6gQi"
      },
      "source": [
        "## evaluating metrics of the model"
      ]
    },
    {
      "cell_type": "code",
      "metadata": {
        "id": "t7vn9Hi_7EdL"
      },
      "source": [
        "from sklearn.metrics import accuracy_score,precision_score,recall_score,classification_report,f1_score,confusion_matrix"
      ],
      "execution_count": null,
      "outputs": []
    },
    {
      "cell_type": "code",
      "metadata": {
        "colab": {
          "base_uri": "https://localhost:8080/",
          "height": 586
        },
        "id": "iCQIpyNU6c_Z",
        "outputId": "0113ea69-833a-4ae7-eaca-d503892bb7b2"
      },
      "source": [
        "# getting train set confusion matrix\n",
        "\n",
        "labels = ['neutral', 'positive','negative']\n",
        "cm_train = confusion_matrix(prediction_train,y_train)\n",
        "print(cm_train)\n",
        "\n",
        "ax= plt.subplot()\n",
        "sns.heatmap(cm_train, annot=True, ax = ax) #annot=True to annotate cells\n",
        "\n",
        "# labels, title and ticks\n",
        "ax.set_xlabel('Predicted labels')\n",
        "ax.set_ylabel('True labels')\n",
        "ax.set_title('Confusion Matrix')\n",
        "ax.xaxis.set_ticklabels(labels)\n",
        "ax.yaxis.set_ticklabels(labels)"
      ],
      "execution_count": null,
      "outputs": [
        {
          "output_type": "stream",
          "text": [
            "[[10959   519   837]\n",
            " [  426  5011   412]\n",
            " [  914   624 13223]]\n"
          ],
          "name": "stdout"
        },
        {
          "output_type": "execute_result",
          "data": {
            "text/plain": [
              "[Text(0, 0.5, 'neutral'), Text(0, 1.5, 'positive'), Text(0, 2.5, 'negative')]"
            ]
          },
          "metadata": {
            "tags": []
          },
          "execution_count": 91
        },
        {
          "output_type": "display_data",
          "data": {
            "image/png": "[encoded data removed]",
            "text/plain": [
              "<Figure size 1080x576 with 2 Axes>"
            ]
          },
          "metadata": {
            "tags": []
          }
        }
      ]
    },
    {
      "cell_type": "code",
      "metadata": {
        "colab": {
          "base_uri": "https://localhost:8080/",
          "height": 586
        },
        "id": "NaHwDwIi6d7g",
        "outputId": "86e3ea24-ad0e-45e5-e8cd-be89796bb45d"
      },
      "source": [
        "# getting test set confusion matrix\n",
        "\n",
        "labels = ['neutral', 'positive','negative']\n",
        "cm_test = confusion_matrix(prediction_test,y_test)\n",
        "print(cm_test)\n",
        "\n",
        "ax= plt.subplot()\n",
        "sns.heatmap(cm_test, annot=True, ax = ax) #annot=True to annotate cells\n",
        "\n",
        "# labels, title and ticks\n",
        "ax.set_xlabel('Predicted labels')\n",
        "ax.set_ylabel('True labels')\n",
        "ax.set_title('Confusion Matrix')\n",
        "ax.xaxis.set_ticklabels(labels)\n",
        "ax.yaxis.set_ticklabels(labels)"
      ],
      "execution_count": null,
      "outputs": [
        {
          "output_type": "stream",
          "text": [
            "[[2523  229  374]\n",
            " [ 222 1075  185]\n",
            " [ 354  255 3015]]\n"
          ],
          "name": "stdout"
        },
        {
          "output_type": "execute_result",
          "data": {
            "text/plain": [
              "[Text(0, 0.5, 'neutral'), Text(0, 1.5, 'positive'), Text(0, 2.5, 'negative')]"
            ]
          },
          "metadata": {
            "tags": []
          },
          "execution_count": 92
        },
        {
          "output_type": "display_data",
          "data": {
            "image/png": "[encoded data removed]",
            "text/plain": [
              "<Figure size 1080x576 with 2 Axes>"
            ]
          },
          "metadata": {
            "tags": []
          }
        }
      ]
    },
    {
      "cell_type": "code",
      "metadata": {
        "colab": {
          "base_uri": "https://localhost:8080/"
        },
        "id": "EnQSZJV0kpfm",
        "outputId": "864557f4-0377-4177-c04a-96535b7a682a"
      },
      "source": [
        "# getting differant scores of train set\n",
        "\n",
        "print('Accuracy score of train set: ',accuracy_score(prediction_train,y_train))\n",
        "print('Precision of train set: ',precision_score(prediction_train,y_train, average = 'weighted'))\n",
        "print('Recall of train set: ',recall_score(prediction_train,y_train, average = 'weighted'))\n",
        "print('F1-score of train set: ',f1_score(prediction_train, y_train, average='weighted'))"
      ],
      "execution_count": null,
      "outputs": [
        {
          "output_type": "stream",
          "text": [
            "Accuracy score of train set:  0.8866514806378132\n",
            "Precision of train set:  0.8875615266256266\n",
            "Recall of train set:  0.8866514806378132\n",
            "F1-score of train set:  0.8869708854574941\n"
          ],
          "name": "stdout"
        }
      ]
    },
    {
      "cell_type": "code",
      "metadata": {
        "colab": {
          "base_uri": "https://localhost:8080/"
        },
        "id": "VxOw-90petsX",
        "outputId": "57e1b3da-079e-45bc-d153-260756ba09a0"
      },
      "source": [
        "# getting differant scores of test set\n",
        "\n",
        "print('Accuracy score of test set: ',accuracy_score(prediction_test,y_test))\n",
        "print('Precision of test set: ',precision_score(prediction_test,y_test, average = 'weighted'))\n",
        "print('Recall of test set: ',recall_score(prediction_test,y_test, average = 'weighted'))\n",
        "print('F1-score of test set: ',f1_score(prediction_test, y_test, average='weighted'))"
      ],
      "execution_count": null,
      "outputs": [
        {
          "output_type": "stream",
          "text": [
            "Accuracy score of test set:  0.8033284742468416\n",
            "Precision of test set:  0.8046727775737095\n",
            "Recall of test set:  0.8033284742468416\n",
            "F1-score of test set:  0.8038953821105832\n"
          ],
          "name": "stdout"
        }
      ]
    },
    {
      "cell_type": "code",
      "metadata": {
        "colab": {
          "base_uri": "https://localhost:8080/"
        },
        "id": "qULWAtUti_FV",
        "outputId": "c3305a93-a0d9-4b9d-8c81-e6f2e59c2662"
      },
      "source": [
        "# getting classification report for train and test sets\n",
        "\n",
        "print('Train set report')\n",
        "print(\"\\n\")\n",
        "print(classification_report(y_train,prediction_train))\n",
        "print(\"\\n\")\n",
        "print('Test set report')\n",
        "print(\"\\n\")\n",
        "print(classification_report(y_test,prediction_test))"
      ],
      "execution_count": null,
      "outputs": [
        {
          "output_type": "stream",
          "text": [
            "Train set report\n",
            "\n",
            "\n",
            "              precision    recall  f1-score   support\n",
            "\n",
            "          -1       0.89      0.89      0.89     12299\n",
            "           0       0.86      0.81      0.83      6154\n",
            "           1       0.90      0.91      0.90     14472\n",
            "\n",
            "    accuracy                           0.89     32925\n",
            "   macro avg       0.88      0.87      0.88     32925\n",
            "weighted avg       0.89      0.89      0.89     32925\n",
            "\n",
            "\n",
            "\n",
            "Test set report\n",
            "\n",
            "\n",
            "              precision    recall  f1-score   support\n",
            "\n",
            "          -1       0.81      0.81      0.81      3099\n",
            "           0       0.73      0.69      0.71      1559\n",
            "           1       0.83      0.84      0.84      3574\n",
            "\n",
            "    accuracy                           0.80      8232\n",
            "   macro avg       0.79      0.78      0.79      8232\n",
            "weighted avg       0.80      0.80      0.80      8232\n",
            "\n"
          ],
          "name": "stdout"
        }
      ]
    },
    {
      "cell_type": "code",
      "metadata": {
        "id": "sJ1P6zI0C3yo"
      },
      "source": [
        ""
      ],
      "execution_count": null,
      "outputs": []
    }
  ]
}